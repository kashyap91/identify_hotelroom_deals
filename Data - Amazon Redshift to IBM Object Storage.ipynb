{
 "cells": [
  {
   "cell_type": "code",
   "execution_count": 1,
   "metadata": {
    "collapsed": true
   },
   "outputs": [],
   "source": [
    "import pandas\n",
    "import psycopg2\n",
    "from getpass import getpass\n",
    "from pandas import read_sql"
   ]
  },
  {
   "cell_type": "code",
   "execution_count": 2,
   "metadata": {},
   "outputs": [
    {
     "name": "stdout",
     "output_type": "stream",
     "text": [
      "password········\n"
     ]
    }
   ],
   "source": [
    "#Candidate password \n",
    "p = getpass('password')"
   ]
  },
  {
   "cell_type": "code",
   "execution_count": 3,
   "metadata": {
    "collapsed": true
   },
   "outputs": [],
   "source": [
    "#FindHotel Amazon Redshift access details\n",
    "config = { 'dbname': 'datafeeds', \n",
    "           'user':'candidate',\n",
    "           'pwd': p,\n",
    "           'host':'datafeeds-1.c1ni7c7e0d3e.eu-west-1.redshift.amazonaws.com',\n",
    "           'port':'5439'\n",
    "         }"
   ]
  },
  {
   "cell_type": "code",
   "execution_count": 4,
   "metadata": {},
   "outputs": [
    {
     "name": "stdout",
     "output_type": "stream",
     "text": [
      "Connection with FH AWS Redshift DW established\n"
     ]
    }
   ],
   "source": [
    "#Creating connection with Amazon Redshift \n",
    "def create_connection(*args,**kwargs):\n",
    "    config = kwargs['config']\n",
    "    con=psycopg2.connect(dbname=config['dbname'], host=config['host'], port=config['port'], user=config['user'], password=config['pwd'])\n",
    "    return con\n",
    "    \n",
    "connection = create_connection(config=config)\n",
    "print \"Connection with FH AWS Redshift DW established\""
   ]
  },
  {
   "cell_type": "code",
   "execution_count": 5,
   "metadata": {},
   "outputs": [
    {
     "data": {
      "text/html": [
       "<div>\n",
       "<table border=\"1\" class=\"dataframe\">\n",
       "  <thead>\n",
       "    <tr style=\"text-align: right;\">\n",
       "      <th></th>\n",
       "      <th>place_id</th>\n",
       "      <th>place_name</th>\n",
       "      <th>place_file_name</th>\n",
       "      <th>place_type_id</th>\n",
       "      <th>country_code</th>\n",
       "      <th>latitude</th>\n",
       "      <th>longitude</th>\n",
       "      <th>rank</th>\n",
       "      <th>navigation_path</th>\n",
       "      <th>is_searchable</th>\n",
       "      <th>has_image</th>\n",
       "      <th>sitemap</th>\n",
       "      <th>wk_place_id</th>\n",
       "      <th>hotel_count_wb</th>\n",
       "      <th>hotel_count_mi</th>\n",
       "      <th>hotel_count_km</th>\n",
       "      <th>has_generic_image</th>\n",
       "      <th>site_map_ancestor</th>\n",
       "    </tr>\n",
       "  </thead>\n",
       "  <tbody>\n",
       "    <tr>\n",
       "      <th>0</th>\n",
       "      <td>1</td>\n",
       "      <td>Egyhazasradoc</td>\n",
       "      <td>Egyhazasradoc</td>\n",
       "      <td>25</td>\n",
       "      <td>HU</td>\n",
       "      <td>47.094071</td>\n",
       "      <td>16.635648</td>\n",
       "      <td>0.534683</td>\n",
       "      <td>/1622/8749/1/</td>\n",
       "      <td>True</td>\n",
       "      <td>False</td>\n",
       "      <td>/1622/8749/1/</td>\n",
       "      <td>1622</td>\n",
       "      <td>1</td>\n",
       "      <td>22</td>\n",
       "      <td>19</td>\n",
       "      <td>False</td>\n",
       "      <td>/1622/8749/</td>\n",
       "    </tr>\n",
       "    <tr>\n",
       "      <th>1</th>\n",
       "      <td>5</td>\n",
       "      <td>Sagarmatha Zone</td>\n",
       "      <td>Sagarmatha_Zone</td>\n",
       "      <td>11</td>\n",
       "      <td>NP</td>\n",
       "      <td>27.323826</td>\n",
       "      <td>86.741637</td>\n",
       "      <td>0.866882</td>\n",
       "      <td>/3988/5/</td>\n",
       "      <td>True</td>\n",
       "      <td>False</td>\n",
       "      <td>/3988/5/</td>\n",
       "      <td>3988</td>\n",
       "      <td>16</td>\n",
       "      <td>16</td>\n",
       "      <td>16</td>\n",
       "      <td>False</td>\n",
       "      <td>/3988/</td>\n",
       "    </tr>\n",
       "  </tbody>\n",
       "</table>\n",
       "</div>"
      ],
      "text/plain": [
       "   place_id       place_name  place_file_name  place_type_id country_code  \\\n",
       "0         1    Egyhazasradoc    Egyhazasradoc             25           HU   \n",
       "1         5  Sagarmatha Zone  Sagarmatha_Zone             11           NP   \n",
       "\n",
       "    latitude  longitude      rank navigation_path is_searchable has_image  \\\n",
       "0  47.094071  16.635648  0.534683   /1622/8749/1/          True     False   \n",
       "1  27.323826  86.741637  0.866882        /3988/5/          True     False   \n",
       "\n",
       "         sitemap  wk_place_id  hotel_count_wb  hotel_count_mi  hotel_count_km  \\\n",
       "0  /1622/8749/1/         1622               1              22              19   \n",
       "1       /3988/5/         3988              16              16              16   \n",
       "\n",
       "  has_generic_image site_map_ancestor  \n",
       "0             False       /1622/8749/  \n",
       "1             False            /3988/  "
      ]
     },
     "execution_count": 5,
     "metadata": {},
     "output_type": "execute_result"
    }
   ],
   "source": [
    "#Extracting place table and creating local csv\n",
    "place = read_sql(\"select * from toy1.place\", con=connection)\n",
    "place.to_csv('place.csv', index = False)\n",
    "place.head(2)"
   ]
  },
  {
   "cell_type": "code",
   "execution_count": 6,
   "metadata": {},
   "outputs": [
    {
     "data": {
      "text/html": [
       "<div>\n",
       "<table border=\"1\" class=\"dataframe\">\n",
       "  <thead>\n",
       "    <tr style=\"text-align: right;\">\n",
       "      <th></th>\n",
       "      <th>hotel_id</th>\n",
       "      <th>hotel_name</th>\n",
       "      <th>rating</th>\n",
       "      <th>hotel_file_name</th>\n",
       "      <th>modified_on</th>\n",
       "      <th>created_on</th>\n",
       "      <th>number_of_reviews</th>\n",
       "      <th>cleanliness_rating</th>\n",
       "      <th>service_rating</th>\n",
       "      <th>facilities_rating</th>\n",
       "      <th>...</th>\n",
       "      <th>place_id</th>\n",
       "      <th>wk_place_id</th>\n",
       "      <th>themes</th>\n",
       "      <th>min_rate_usd</th>\n",
       "      <th>short_stay_price_min</th>\n",
       "      <th>short_stay_price_max</th>\n",
       "      <th>cheapest_check_in</th>\n",
       "      <th>cheapest_check_out</th>\n",
       "      <th>address</th>\n",
       "      <th>image_sprite_all</th>\n",
       "    </tr>\n",
       "  </thead>\n",
       "  <tbody>\n",
       "    <tr>\n",
       "      <th>0</th>\n",
       "      <td>1040834</td>\n",
       "      <td>Concorde Hotel Lousberg</td>\n",
       "      <td>3</td>\n",
       "      <td>Concorde_Hotel_Lousberg</td>\n",
       "      <td>2016-02-12 07:58:23</td>\n",
       "      <td>2006-12-07 23:34:07</td>\n",
       "      <td>150</td>\n",
       "      <td>8.19</td>\n",
       "      <td>8.31</td>\n",
       "      <td>9.08</td>\n",
       "      <td>...</td>\n",
       "      <td>22898</td>\n",
       "      <td>22898</td>\n",
       "      <td>5|6|7|</td>\n",
       "      <td>96.2130</td>\n",
       "      <td>0.0</td>\n",
       "      <td>0</td>\n",
       "      <td>2016-06-20</td>\n",
       "      <td>2016-06-21</td>\n",
       "      <td>Saarstrasse 108</td>\n",
       "      <td>155326784,460,353,ESK|155326785,375,500,ESK|15...</td>\n",
       "    </tr>\n",
       "    <tr>\n",
       "      <th>1</th>\n",
       "      <td>1040983</td>\n",
       "      <td>Camino Real Acapulco Diamante</td>\n",
       "      <td>5</td>\n",
       "      <td>Camino_Real_Acapulco_Diamante</td>\n",
       "      <td>2016-01-11 16:00:08</td>\n",
       "      <td>2006-12-07 23:34:11</td>\n",
       "      <td>1205</td>\n",
       "      <td>8.59</td>\n",
       "      <td>8.19</td>\n",
       "      <td>7.92</td>\n",
       "      <td>...</td>\n",
       "      <td>55086</td>\n",
       "      <td>55086</td>\n",
       "      <td>7|8|9|13|14|</td>\n",
       "      <td>90.0561</td>\n",
       "      <td>178.5</td>\n",
       "      <td>255</td>\n",
       "      <td>2016-06-25</td>\n",
       "      <td>2016-06-26</td>\n",
       "      <td>Carretera Escénica Km.14 Baja Catita 18</td>\n",
       "      <td>294479649,333,500,OSV|294479650,333,500,OSV|29...</td>\n",
       "    </tr>\n",
       "  </tbody>\n",
       "</table>\n",
       "<p>2 rows × 38 columns</p>\n",
       "</div>"
      ],
      "text/plain": [
       "   hotel_id                     hotel_name  rating  \\\n",
       "0   1040834        Concorde Hotel Lousberg       3   \n",
       "1   1040983  Camino Real Acapulco Diamante       5   \n",
       "\n",
       "                 hotel_file_name         modified_on          created_on  \\\n",
       "0        Concorde_Hotel_Lousberg 2016-02-12 07:58:23 2006-12-07 23:34:07   \n",
       "1  Camino_Real_Acapulco_Diamante 2016-01-11 16:00:08 2006-12-07 23:34:11   \n",
       "\n",
       "   number_of_reviews  cleanliness_rating  service_rating  facilities_rating  \\\n",
       "0                150                8.19            8.31               9.08   \n",
       "1               1205                8.59            8.19               7.92   \n",
       "\n",
       "                         ...                          place_id  wk_place_id  \\\n",
       "0                        ...                             22898        22898   \n",
       "1                        ...                             55086        55086   \n",
       "\n",
       "         themes  min_rate_usd  short_stay_price_min  short_stay_price_max  \\\n",
       "0        5|6|7|       96.2130                   0.0                     0   \n",
       "1  7|8|9|13|14|       90.0561                 178.5                   255   \n",
       "\n",
       "   cheapest_check_in  cheapest_check_out  \\\n",
       "0         2016-06-20          2016-06-21   \n",
       "1         2016-06-25          2016-06-26   \n",
       "\n",
       "                                   address  \\\n",
       "0                          Saarstrasse 108   \n",
       "1  Carretera Escénica Km.14 Baja Catita 18   \n",
       "\n",
       "                                    image_sprite_all  \n",
       "0  155326784,460,353,ESK|155326785,375,500,ESK|15...  \n",
       "1  294479649,333,500,OSV|294479650,333,500,OSV|29...  \n",
       "\n",
       "[2 rows x 38 columns]"
      ]
     },
     "execution_count": 6,
     "metadata": {},
     "output_type": "execute_result"
    }
   ],
   "source": [
    "#Extracting hotel table and creating local csv\n",
    "hotel = read_sql(\"select * from toy1.hotel\", con=connection)\n",
    "hotel.to_csv('hotel.csv', index = False)\n",
    "hotel.head(2)"
   ]
  },
  {
   "cell_type": "code",
   "execution_count": 7,
   "metadata": {},
   "outputs": [
    {
     "data": {
      "text/html": [
       "<div>\n",
       "<table border=\"1\" class=\"dataframe\">\n",
       "  <thead>\n",
       "    <tr style=\"text-align: right;\">\n",
       "      <th></th>\n",
       "      <th>lead_id</th>\n",
       "      <th>date</th>\n",
       "      <th>total_usd</th>\n",
       "      <th>check_in</th>\n",
       "      <th>check_out</th>\n",
       "      <th>room_description</th>\n",
       "      <th>nb_rooms</th>\n",
       "      <th>hotel_id</th>\n",
       "    </tr>\n",
       "  </thead>\n",
       "  <tbody>\n",
       "    <tr>\n",
       "      <th>0</th>\n",
       "      <td>4031968</td>\n",
       "      <td>2016-01-01</td>\n",
       "      <td>1003.90</td>\n",
       "      <td>2015-12-31</td>\n",
       "      <td>2016-01-03</td>\n",
       "      <td>2</td>\n",
       "      <td>1</td>\n",
       "      <td>1040995</td>\n",
       "    </tr>\n",
       "    <tr>\n",
       "      <th>1</th>\n",
       "      <td>4049612</td>\n",
       "      <td>2016-01-01</td>\n",
       "      <td>233.61</td>\n",
       "      <td>2016-01-06</td>\n",
       "      <td>2016-01-08</td>\n",
       "      <td>2</td>\n",
       "      <td>1</td>\n",
       "      <td>1040953</td>\n",
       "    </tr>\n",
       "  </tbody>\n",
       "</table>\n",
       "</div>"
      ],
      "text/plain": [
       "   lead_id        date  total_usd    check_in   check_out room_description  \\\n",
       "0  4031968  2016-01-01    1003.90  2015-12-31  2016-01-03                2   \n",
       "1  4049612  2016-01-01     233.61  2016-01-06  2016-01-08                2   \n",
       "\n",
       "   nb_rooms  hotel_id  \n",
       "0         1   1040995  \n",
       "1         1   1040953  "
      ]
     },
     "execution_count": 7,
     "metadata": {},
     "output_type": "execute_result"
    }
   ],
   "source": [
    "#Extracting lead table and creating local csv\n",
    "#leadCount = read_sql(\"select count(1) from toy1.lead\", con=connection)\n",
    "#lead1 = read_sql(\"select * from toy1.lead limit leadCount/2\", con=connection)\n",
    "#lead2 = read_sql(\"select * from toy1.lead offset leadCount/2\", con=connection)\n",
    "\n",
    "#Prior to execution pls note: this request takes in excess of 20 minutes to process (subject to n/w latency) and unexpected source server connection failure\n",
    "lead = read_sql(\"select * from toy1.lead\", con=connection) \n",
    "lead.to_csv('lead.csv', index = False)\n",
    "lead.head(2)"
   ]
  },
  {
   "cell_type": "code",
   "execution_count": 8,
   "metadata": {
    "collapsed": true
   },
   "outputs": [],
   "source": [
    "#Credentials to establish Object Storage connection\n",
    "\n",
    "credentials_1 = {\n",
    "  'auth_url':'https://identity.open.softlayer.com',\n",
    "  'project':'object_storage_4f7c12d0_b952_450d_b479_df6fdbb30d48',\n",
    "  'project_id':'a52717a052f343a1b9020e4160a61913',\n",
    "  'region':'dallas',\n",
    "  'user_id':'c8d82fa9a27147ba8a9c1d984f5185d3',\n",
    "  'domain_id':'68c916a652e2434c81421952c4c05cc9',\n",
    "  'domain_name':'1434337',\n",
    "  'username':'member_157b57e8fa7b7b37664471ffe4919c0ba44b9c4f',\n",
    "  'password':\"\"\"L7{xz9VVCq^6k80s\"\"\",\n",
    "  'container':'FindHotelProjecttemp',\n",
    "  'tenantId':'undefined',\n",
    "  }"
   ]
  },
  {
   "cell_type": "code",
   "execution_count": 9,
   "metadata": {
    "collapsed": true
   },
   "outputs": [],
   "source": [
    "#Function to connect Object Storage and write files\n",
    "\n",
    "from io import BytesIO  \n",
    "import requests  \n",
    "import json  \n",
    "import pandas as pd\n",
    "\n",
    "def put_file(credentials, local_file_name):  \n",
    "    \"\"\"This functions returns a StringIO object containing\n",
    "    the file content from Bluemix Object Storage V3.\"\"\"\n",
    "    f = open(local_file_name,'r')\n",
    "    my_data = f.read()\n",
    "    url1 = ''.join(['https://identity.open.softlayer.com', '/v3/auth/tokens'])\n",
    "    data = {'auth': {'identity': {'methods': ['password'],\n",
    "            'password': {'user': {'name': credentials['username'],'domain': {'id': credentials['domain_id']},\n",
    "            'password': credentials['password']}}}}}\n",
    "    headers1 = {'Content-Type': 'application/json'}\n",
    "    resp1 = requests.post(url=url1, data=json.dumps(data), headers=headers1)\n",
    "    resp1_body = resp1.json()\n",
    "    for e1 in resp1_body['token']['catalog']:\n",
    "        if(e1['type']=='object-store'):\n",
    "            for e2 in e1['endpoints']:\n",
    "                        if(e2['interface']=='public'and e2['region']=='dallas'):\n",
    "                            url2 = ''.join([e2['url'],'/', credentials['container'], '/', local_file_name])\n",
    "    s_subject_token = resp1.headers['x-subject-token']\n",
    "    headers2 = {'X-Auth-Token': s_subject_token, 'accept': 'application/json'}\n",
    "    resp2 = requests.put(url=url2, headers=headers2, data = my_data )\n",
    "    print \"File write successful\""
   ]
  },
  {
   "cell_type": "raw",
   "metadata": {},
   "source": [
    "lines of code have been marked down to avoid unintentional file overwrite "
   ]
  },
  {
   "cell_type": "code",
   "execution_count": null,
   "metadata": {
    "collapsed": true
   },
   "outputs": [],
   "source": [
    "# Writing to object storage\n",
    "\n",
    "#put_file(credentials_1,'place.csv') \n",
    "#put_file(credentials_1,'hotel.csv')\n",
    "#put_file(credentials_1,'lead.csv')"
   ]
  }
 ],
 "metadata": {
  "kernelspec": {
   "display_name": "Python 3",
   "language": "python",
   "name": "python3"
  },
  "language_info": {
   "codemirror_mode": {
    "name": "ipython",
    "version": 3
   },
   "file_extension": ".py",
   "mimetype": "text/x-python",
   "name": "python",
   "nbconvert_exporter": "python",
   "pygments_lexer": "ipython3",
   "version": "3.7.1"
  }
 },
 "nbformat": 4,
 "nbformat_minor": 1
}
